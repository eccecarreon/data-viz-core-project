{
 "cells": [
  {
   "cell_type": "markdown",
   "id": "ebe7bf11-aa08-4124-839f-efea1bb957f2",
   "metadata": {},
   "source": [
    "**Project 3 - Part 1 (Core)**"
   ]
  },
  {
   "cell_type": "markdown",
   "id": "9da86848-7071-4a59-adff-ddb6978e7743",
   "metadata": {},
   "source": [
    "For this assignment, you will be starting a new portfolio project that you will continue to build on over the remaining weeks of this course.\n",
    "\n",
    "* For Part 1, you will be downloading and preparing a crime dataset for time series analysis.\n",
    "* You will then answer the provided stakeholder questions and support your answers with visualizations."
   ]
  },
  {
   "cell_type": "markdown",
   "id": "6417380b-511c-4b29-b8b0-28397665ec71",
   "metadata": {},
   "source": [
    "**Chicago Crime Data**\n",
    "\n",
    "* We have prepared a zip file with the Chicago crime data which you can download [here](https://drive.google.com/file/d/1avxUlCAros-R9GF6SKXqM_GopzO7VwA5/view?usp=drive_link).\n",
    "\n",
    "* Original Source: Chicago Data Portal: Crimes 2001 to Present\n",
    "    * Data Description:\n",
    "        * All Crimes that were reported in the city of Chicago and their details [View Preview](https://data.cityofchicago.org/Public-Safety/Crimes-2001-to-Present/ijzp-q8t2/data)\n",
    "\n"
   ]
  }
 ],
 "metadata": {
  "kernelspec": {
   "display_name": "Python (dojo-env)",
   "language": "python",
   "name": "dojo-env"
  },
  "language_info": {
   "codemirror_mode": {
    "name": "ipython",
    "version": 3
   },
   "file_extension": ".py",
   "mimetype": "text/x-python",
   "name": "python",
   "nbconvert_exporter": "python",
   "pygments_lexer": "ipython3",
   "version": "3.10.10"
  },
  "widgets": {
   "application/vnd.jupyter.widget-state+json": {
    "state": {},
    "version_major": 2,
    "version_minor": 0
   }
  }
 },
 "nbformat": 4,
 "nbformat_minor": 5
}
