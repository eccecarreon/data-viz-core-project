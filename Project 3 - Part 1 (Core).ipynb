{
 "cells": [
  {
   "cell_type": "markdown",
   "id": "ebe7bf11-aa08-4124-839f-efea1bb957f2",
   "metadata": {},
   "source": [
    "**Project 3 - Part 1 (Core)**"
   ]
  },
  {
   "cell_type": "markdown",
   "id": "9da86848-7071-4a59-adff-ddb6978e7743",
   "metadata": {},
   "source": [
    "For this assignment, you will be starting a new portfolio project that you will continue to build on over the remaining weeks of this course.\n",
    "\n",
    "* For Part 1, you will be downloading and preparing a crime dataset for time series analysis.\n",
    "* You will then answer the provided stakeholder questions and support your answers with visualizations."
   ]
  },
  {
   "cell_type": "markdown",
   "id": "6417380b-511c-4b29-b8b0-28397665ec71",
   "metadata": {},
   "source": [
    "**Chicago Crime Data**\n",
    "\n",
    "* We have prepared a zip file with the Chicago crime data which you can download [here](https://drive.google.com/file/d/1avxUlCAros-R9GF6SKXqM_GopzO7VwA5/view?usp=drive_link).\n",
    "\n",
    "* Original Source: Chicago Data Portal: Crimes 2001 to Present\n",
    "    * Data Description:\n",
    "        * All Crimes that were reported in the city of Chicago and their details [View Preview](https://data.cityofchicago.org/Public-Safety/Crimes-2001-to-Present/ijzp-q8t2/data)\n",
    "\n",
    "    * Includes:\n",
    "        * type of crime, exact date/time, lat/long, District/ward, was there an arrest, etc.\n",
    "    * Note: The original .csv is very large and needs to be processed into smaller files to fit inside a GitHub repository.\n",
    "    * We have provided a .zip file (linked above) with the data in a repo-friendly format. For those who are curious the code for converting the downloaded file to the .zip file of individual years, please see [this helper notebook](https://github.com/coding-dojo-data-science/preparing-chicago-crime-data/blob/admin/Workflow%20-%20Prep%20Chicago%20Crime%20Data.ipynb).\n",
    "\n",
    "* Supplemental Data: Holiday Data\n",
    "    * Check the lesson on \"Feature Engineering: Holidays\" to see how to use the Python 'holidays' package to add holidays to your dataset.\n",
    "\n",
    "* Notes/Considerations:\n",
    "    * You may need to keep 2 forms of the data:\n",
    "        * The original individual crime data with a datetime index. (Each row is 1 crime)\n",
    "        * A resampled/converted crime counts version (Each row is 1 day)"
   ]
  },
  {
   "cell_type": "markdown",
   "id": "c3746db5-5f6f-4c3d-b3fe-8c6ff1f408f4",
   "metadata": {},
   "source": [
    "# Task"
   ]
  },
  {
   "cell_type": "markdown",
   "id": "7309d234-3cb5-4a98-8c6f-9fb1bdab1939",
   "metadata": {},
   "source": [
    "Your task is to answer a series of questions about trends in crimes in Chicago for a reporter for the local newspaper.\n",
    "\n",
    "**Stakeholder Questions to Answer (Pick at least 3 topics):**\n",
    "\n",
    "Select 3 or more of the following topics to analyze:\n",
    "\n",
    "* Topic 1) Comparing Police Districts\n",
    "    * Which district had the most crimes in 2022?\n",
    "    * Which had the least?\n",
    "\n",
    "* Topic 2) Crimes Across the Years:\n",
    "    * Is the total number of crimes increasing or decreasing across the years?\n",
    "    * Are there any individual crimes that are doing the opposite (e.g., decreasing when overall crime is increasing or vice-versa)?\n",
    "\n",
    "* Topic 3) Comparing AM vs. PM Rush Hour:\n",
    "    * Are crimes more common during AM rush hour or PM rush hour?\n",
    "        * You can consider any crime that occurred between 7 AM - 10 AM as AM rush hour\n",
    "        * You can consider any crime that occurred between 4 - 7 PM as PM rush hour.\n",
    "\n",
    "    * Answer the question: What are the top 5 most common crimes during AM rush hour? What are the top 5 most common crimes during PM rush hour?\n",
    "    * Answer the question: Are Motor Vehicle Thefts more common during AM rush hour or PM Rush Hour?\n",
    "\n",
    "* Topic 4) Comparing Months:\n",
    "    * Answer the question: What months have the most crime? What months have the least?\n",
    "    * Answer the question: Are there any individual crimes that do not follow this pattern? If so, which crimes?\n",
    "\n",
    "* Topic 5) Comparing Holidays:\n",
    "    * Answer the question: What are the top 3 holidays with the largest number of crimes?\n",
    "    * Answer the question: For each of the top 3 holidays with the most crime, what are the top 5 most common crimes on that holiday?\n",
    "\n",
    "* Topic 6) What cycles (seasonality) can you find in this data?\n",
    "    * Make sure to select the data of interest and that it is resampled to the frequency you want. (See the \"Suggested data to check for seasons\" list at the bottom of this topic for suggestions) .\n",
    "    * Use statsmodels.tsa.seasonal.seasonal_decompose() to decompose the time series.\n",
    "        * Note: seasonal_decompose cannot read data resampled as minutes or smaller, and if you try seconds, you will crash your computer. Keep your resampling at hours or more.\n",
    "    * Show and describe each cycle you can find.\n",
    "        * (Hint: If your seasonal results are too dense to read, try zooming in to look at just one year or one month and try different levels of resampling).\n",
    "        * Answer the question: How long is a cycle?\n",
    "        * Answer the question: What is the magnitude of the cycle? (Compare min and max).\n",
    "    \n",
    "    * Suggested data to check for seasons:\n",
    "        * Total Crime (Daily)\n",
    "        * Total Crime (Weekly)\n",
    "        * Total Crime (Monthly)\n",
    "        * Select a Primary Type of interest to you (Daily)\n",
    "        * Select a Primary Type of interest to you (Weekly)\n",
    "        * Select a Primary Type of interest to you (Monthly)"
   ]
  },
  {
   "cell_type": "markdown",
   "id": "f7486086-1336-47d8-adf9-b61ede557f8d",
   "metadata": {},
   "source": [
    "**Final Submission**\n",
    "Submit the link to your GitHub Repository (make sure it is public!)"
   ]
  },
  {
   "cell_type": "markdown",
   "id": "14ca3ddd-1b7b-44c5-b180-bbb44c7a63b6",
   "metadata": {},
   "source": [
    "# Solution"
   ]
  },
  {
   "cell_type": "code",
   "execution_count": null,
   "id": "1519871b-7d26-4461-b7a1-7a7b16d437a8",
   "metadata": {},
   "outputs": [],
   "source": []
  }
 ],
 "metadata": {
  "kernelspec": {
   "display_name": "Python (dojo-env)",
   "language": "python",
   "name": "dojo-env"
  },
  "language_info": {
   "codemirror_mode": {
    "name": "ipython",
    "version": 3
   },
   "file_extension": ".py",
   "mimetype": "text/x-python",
   "name": "python",
   "nbconvert_exporter": "python",
   "pygments_lexer": "ipython3",
   "version": "3.10.10"
  },
  "widgets": {
   "application/vnd.jupyter.widget-state+json": {
    "state": {},
    "version_major": 2,
    "version_minor": 0
   }
  }
 },
 "nbformat": 4,
 "nbformat_minor": 5
}
